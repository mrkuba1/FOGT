{
 "cells": [
  {
   "cell_type": "code",
   "execution_count": 1,
   "metadata": {},
   "outputs": [],
   "source": [
    "import sympy as sp\n",
    "import numpy as np\n",
    "from scipy.integrate import quad\n",
    "from scipy.stats import norm\n",
    "import matplotlib.pyplot as plt\n",
    "from sympy.utilities import lambdify\n",
    "from matplotlib.animation import FuncAnimation\n",
    "from IPython.display import HTML"
   ]
  },
  {
   "cell_type": "code",
   "execution_count": 2,
   "metadata": {},
   "outputs": [],
   "source": [
    "sp.init_printing()"
   ]
  },
  {
   "cell_type": "code",
   "execution_count": 3,
   "metadata": {},
   "outputs": [
    {
     "data": {
      "image/png": "[encoded data removed]",
      "text/latex": [
       "$\\displaystyle \\left( x, \\  k, \\  a, \\  m, \\  t, \\  \\hbar, \\  n, \\  \\psi{\\left(x \\right)}\\right)$"
      ],
      "text/plain": [
       "(x, k, a, m, t, h̅, n, ψ(x))"
      ]
     },
     "execution_count": 3,
     "metadata": {},
     "output_type": "execute_result"
    }
   ],
   "source": [
    "x = sp.Symbol('x', real=True)\n",
    "k = sp.Symbol('k', real=True, positive=True)\n",
    "a = sp.Symbol('a', real=True)\n",
    "m = sp.Symbol('m', real=True, positive=True)\n",
    "t = sp.Symbol('t', real=True, positive=True)\n",
    "h = sp.Symbol('hbar', real=True, positive=True)\n",
    "n = sp.Symbol('n', integer=True, nonzero=True)\n",
    "psi = sp.Function('psi')\n",
    "\n",
    "x, k, a, m, t, h, n, psi(x)"
   ]
  },
  {
   "cell_type": "code",
   "execution_count": 4,
   "metadata": {},
   "outputs": [],
   "source": [
    "eq = sp.Eq(psi(x).diff(x, x), -k**2 * psi(x))"
   ]
  },
  {
   "cell_type": "code",
   "execution_count": 5,
   "metadata": {},
   "outputs": [],
   "source": [
    "sol = sp.dsolve(eq, psi(x), ics={psi(0): 0})"
   ]
  },
  {
   "cell_type": "code",
   "execution_count": 6,
   "metadata": {},
   "outputs": [],
   "source": [
    "sol = sol.subs(k, n * sp.pi / a)"
   ]
  },
  {
   "cell_type": "code",
   "execution_count": 7,
   "metadata": {},
   "outputs": [],
   "source": [
    "sol = sol.subs(sp.Symbol('C1'), sp.sqrt(2 / a))"
   ]
  },
  {
   "cell_type": "markdown",
   "metadata": {},
   "source": [
    "$$\\sigma_X^2=<x^2>-<x>^2$$"
   ]
  },
  {
   "cell_type": "markdown",
   "metadata": {},
   "source": [
    "$$<p>=?$$\n",
    "$$<p^2>=?$$\n",
    "$$\\sigma_P^2=?$$\n",
    "\n",
    "$$\\sigma_X \\sigma_P \\geq \\frac{\\hbar}{2}$$\n",
    "\n",
    "Spradzić, czy ta zasada nieoznaczoności jest faktycznie dla tej studni potencjału spełniona."
   ]
  },
  {
   "cell_type": "markdown",
   "metadata": {},
   "source": [
    "# Rozwiazanie"
   ]
  },
  {
   "cell_type": "markdown",
   "metadata": {},
   "source": [
    "### Wyliczenie połozenia"
   ]
  },
  {
   "cell_type": "code",
   "execution_count": 8,
   "metadata": {},
   "outputs": [
    {
     "data": {
      "image/png": "[encoded data removed]",
      "text/latex": [
       "$\\displaystyle \\left( \\frac{a^{2}}{3} - \\frac{a^{2}}{2 \\pi^{2} n^{2}}, \\  \\frac{a^{2}}{4}, \\  \\frac{a^{2}}{12} - \\frac{a^{2}}{2 \\pi^{2} n^{2}}\\right)$"
      ],
      "text/plain": [
       "⎛ 2       2     2   2       2  ⎞\n",
       "⎜a       a     a   a       a   ⎟\n",
       "⎜── - ───────, ──, ── - ───────⎟\n",
       "⎜3       2  2  4   12      2  2⎟\n",
       "⎝     2⋅π ⋅n            2⋅π ⋅n ⎠"
      ]
     },
     "execution_count": 8,
     "metadata": {},
     "output_type": "execute_result"
    }
   ],
   "source": [
    "Xx=sp.integrate(sol.rhs * x**2 * sol.rhs, (x, 0, a)).simplify()\n",
    "X_squared=sp.integrate(sol.rhs * x * sol.rhs, (x, 0, a)).simplify()**2\n",
    "sigma_X_squared=Xx-X_squared\n",
    "Xx,X_squared,sigma_X_squared"
   ]
  },
  {
   "cell_type": "markdown",
   "metadata": {},
   "source": [
    "### Wyliczenie pędu"
   ]
  },
  {
   "cell_type": "code",
   "execution_count": 9,
   "metadata": {},
   "outputs": [
    {
     "data": {
      "image/png": "[encoded data removed]",
      "text/latex": [
       "$\\displaystyle \\left( \\sqrt{2} \\sqrt{\\frac{1}{a}} \\int\\limits_{0}^{a} \\sin{\\left(\\frac{\\pi n x}{a} \\right)} \\left(\\frac{d}{d x} \\psi{\\left(x \\right)}\\right)^{2}\\, dx, \\  \\frac{2 \\left(\\int\\limits_{0}^{a} \\sin{\\left(\\frac{\\pi n x}{a} \\right)} \\frac{d}{d x} \\psi{\\left(x \\right)}\\, dx\\right)^{2}}{a}, \\  \\sqrt{2} \\sqrt{\\frac{1}{a}} \\int\\limits_{0}^{a} \\sin{\\left(\\frac{\\pi n x}{a} \\right)} \\left(\\frac{d}{d x} \\psi{\\left(x \\right)}\\right)^{2}\\, dx - \\frac{2 \\left(\\int\\limits_{0}^{a} \\sin{\\left(\\frac{\\pi n x}{a} \\right)} \\frac{d}{d x} \\psi{\\left(x \\right)}\\, dx\\right)^{2}}{a}\\right)$"
      ],
      "text/plain": [
       "⎛                                                                    2        \n",
       "⎜                                          ⎛a                       ⎞         \n",
       "⎜                                          ⎜⌠                       ⎟         \n",
       "⎜                                          ⎜⎮    ⎛π⋅n⋅x⎞ d          ⎟         \n",
       "⎜           a                            2⋅⎜⎮ sin⎜─────⎟⋅──(ψ(x)) dx⎟         \n",
       "⎜           ⌠                              ⎜⎮    ⎝  a  ⎠ dx         ⎟         \n",
       "⎜       ___ ⎮                      2       ⎜⌡                       ⎟         \n",
       "⎜      ╱ 1  ⎮    ⎛π⋅n⋅x⎞ ⎛d       ⎞        ⎝0                       ⎠         \n",
       "⎜√2⋅  ╱  ─ ⋅⎮ sin⎜─────⎟⋅⎜──(ψ(x))⎟  dx, ─────────────────────────────, √2⋅  ╱\n",
       "⎜   ╲╱   a  ⎮    ⎝  a  ⎠ ⎝dx      ⎠                    a                   ╲╱ \n",
       "⎜           ⌡                                                                 \n",
       "⎝           0                                                                 \n",
       "\n",
       "                                                               2⎞\n",
       "                                     ⎛a                       ⎞ ⎟\n",
       "                                     ⎜⌠                       ⎟ ⎟\n",
       "                                     ⎜⎮    ⎛π⋅n⋅x⎞ d          ⎟ ⎟\n",
       "     a                             2⋅⎜⎮ sin⎜─────⎟⋅──(ψ(x)) dx⎟ ⎟\n",
       "     ⌠                               ⎜⎮    ⎝  a  ⎠ dx         ⎟ ⎟\n",
       " ___ ⎮                      2        ⎜⌡                       ⎟ ⎟\n",
       "╱ 1  ⎮    ⎛π⋅n⋅x⎞ ⎛d       ⎞         ⎝0                       ⎠ ⎟\n",
       "  ─ ⋅⎮ sin⎜─────⎟⋅⎜──(ψ(x))⎟  dx - ─────────────────────────────⎟\n",
       "  a  ⎮    ⎝  a  ⎠ ⎝dx      ⎠                     a              ⎟\n",
       "     ⌡                                                          ⎟\n",
       "     0                                                          ⎠"
      ]
     },
     "execution_count": 9,
     "metadata": {},
     "output_type": "execute_result"
    }
   ],
   "source": [
    "Pp=sp.integrate(sol.rhs * psi(x).diff(x)**2, (x, 0, a)).simplify()\n",
    "P_squared=sp.integrate(sol.rhs * psi(x).diff(x), (x, 0, a)).simplify()**2\n",
    "sigma_P_squared=Pp-P_squared\n",
    "\n",
    "Pp,P_squared,sigma_P_squared"
   ]
  },
  {
   "cell_type": "markdown",
   "metadata": {},
   "source": [
    "### Sprawdzenie nierówności Heisenberga"
   ]
  },
  {
   "cell_type": "code",
   "execution_count": 10,
   "metadata": {},
   "outputs": [
    {
     "data": {
      "image/png": "[encoded data removed]",
      "text/latex": [
       "$\\displaystyle \\frac{\\hbar^{2}}{4} \\leq \\frac{a \\left(\\pi^{2} n^{2} - 6\\right) \\left(\\sqrt{2} a \\sqrt{\\frac{1}{a}} \\int\\limits_{0}^{a} \\sin{\\left(\\frac{\\pi n x}{a} \\right)} \\left(\\frac{d}{d x} \\psi{\\left(x \\right)}\\right)^{2}\\, dx - 2 \\left(\\int\\limits_{0}^{a} \\sin{\\left(\\frac{\\pi n x}{a} \\right)} \\frac{d}{d x} \\psi{\\left(x \\right)}\\, dx\\right)^{2}\\right)}{12 \\pi^{2} n^{2}}$"
      ],
      "text/plain": [
       "                   ⎛             a                                            \n",
       "                   ⎜             ⌠                               ⎛a           \n",
       "                   ⎜         ___ ⎮                      2        ⎜⌠           \n",
       "       ⎛ 2  2    ⎞ ⎜        ╱ 1  ⎮    ⎛π⋅n⋅x⎞ ⎛d       ⎞         ⎜⎮    ⎛π⋅n⋅x⎞\n",
       "     a⋅⎝π ⋅n  - 6⎠⋅⎜√2⋅a⋅  ╱  ─ ⋅⎮ sin⎜─────⎟⋅⎜──(ψ(x))⎟  dx - 2⋅⎜⎮ sin⎜─────⎟\n",
       "                   ⎜     ╲╱   a  ⎮    ⎝  a  ⎠ ⎝dx      ⎠         ⎜⎮    ⎝  a  ⎠\n",
       " 2                 ⎜             ⌡                               ⎜⌡           \n",
       "h̅                  ⎝             0                               ⎝0          \n",
       "── ≤ ─────────────────────────────────────────────────────────────────────────\n",
       "4                                                2  2                         \n",
       "                                             12⋅π ⋅n                          \n",
       "\n",
       "             2⎞\n",
       "            ⎞ ⎟\n",
       "            ⎟ ⎟\n",
       " d          ⎟ ⎟\n",
       "⋅──(ψ(x)) dx⎟ ⎟\n",
       " dx         ⎟ ⎟\n",
       "            ⎟ ⎟\n",
       "             ⎠ ⎠\n",
       "───────────────\n",
       "               \n",
       "               "
      ]
     },
     "execution_count": 10,
     "metadata": {},
     "output_type": "execute_result"
    }
   ],
   "source": [
    "check = sigma_X_squared * sigma_P_squared >= h**2 / 4\n",
    "check.simplify()"
   ]
  }
 ],
 "metadata": {
  "kernelspec": {
   "display_name": "fogt-integra-2023-CXMDHbKH-py3.10",
   "language": "python",
   "name": "python3"
  },
  "language_info": {
   "codemirror_mode": {
    "name": "ipython",
    "version": 3
   },
   "file_extension": ".py",
   "mimetype": "text/x-python",
   "name": "python",
   "nbconvert_exporter": "python",
   "pygments_lexer": "ipython3",
   "version": "3.11.5"
  }
 },
 "nbformat": 4,
 "nbformat_minor": 2
}
