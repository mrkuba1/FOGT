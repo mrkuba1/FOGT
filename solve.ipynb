{
 "cells": [
  {
   "cell_type": "code",
   "execution_count": 1,
   "metadata": {},
   "outputs": [],
   "source": [
    "import sympy as sp\n",
    "import numpy as np\n",
    "from scipy.integrate import quad\n",
    "from scipy.stats import norm\n",
    "from scipy.constants import h"
   ]
  },
  {
   "cell_type": "code",
   "execution_count": 2,
   "metadata": {},
   "outputs": [],
   "source": [
    "sp.init_printing()"
   ]
  },
  {
   "cell_type": "code",
   "execution_count": 3,
   "metadata": {},
   "outputs": [
    {
     "data": {
      "image/png": "[encoded data removed]",
      "text/latex": [
       "$\\displaystyle \\left( x, \\  k, \\  a, \\  m, \\  t, \\  \\hbar, \\  n, \\  \\psi{\\left(x \\right)}\\right)$"
      ],
      "text/plain": [
       "(x, k, a, m, t, h̅, n, ψ(x))"
      ]
     },
     "execution_count": 3,
     "metadata": {},
     "output_type": "execute_result"
    }
   ],
   "source": [
    "x = sp.Symbol('x', real=True)\n",
    "k = sp.Symbol('k', real=True, positive=True)\n",
    "a = sp.Symbol('a', real=True)\n",
    "m = sp.Symbol('m', real=True, positive=True)\n",
    "t = sp.Symbol('t', real=True, positive=True)\n",
    "hbar = sp.Symbol('hbar', real=True, positive=True)\n",
    "n = sp.Symbol('n', integer=True, nonzero=True)\n",
    "psi = sp.Function('psi')\n",
    "\n",
    "x, k, a, m, t, hbar, n, psi(x)"
   ]
  },
  {
   "cell_type": "code",
   "execution_count": 4,
   "metadata": {},
   "outputs": [],
   "source": [
    "eq = sp.Eq(psi(x).diff(x, x), -k**2 * psi(x))"
   ]
  },
  {
   "cell_type": "code",
   "execution_count": 5,
   "metadata": {},
   "outputs": [],
   "source": [
    "sol = sp.dsolve(eq, psi(x), ics={psi(0): 0})"
   ]
  },
  {
   "cell_type": "code",
   "execution_count": 6,
   "metadata": {},
   "outputs": [],
   "source": [
    "sol = sol.subs(k, n * sp.pi / a)"
   ]
  },
  {
   "cell_type": "code",
   "execution_count": 7,
   "metadata": {},
   "outputs": [],
   "source": [
    "sol = sol.subs(sp.Symbol('C1'), sp.sqrt(2 / a))"
   ]
  },
  {
   "cell_type": "markdown",
   "metadata": {},
   "source": [
    "$$<p>=?$$\n",
    "$$<p^2>=?$$\n",
    "$$\\sigma_P^2=?$$\n",
    "\n",
    "$$\\sigma_X \\sigma_P \\geq \\frac{\\hbar}{2}$$\n",
    "\n",
    "Spradzić, czy ta zasada nieoznaczoności jest faktycznie dla tej studni potencjału spełniona."
   ]
  },
  {
   "cell_type": "markdown",
   "metadata": {},
   "source": [
    "# Rozwiązanie"
   ]
  },
  {
   "cell_type": "markdown",
   "metadata": {},
   "source": [
    "### Wyliczenie położenie\n",
    "\n",
    "$$<x>=?$$\n",
    "$$<x^2>=?$$\n",
    "$$\\sigma_X=?$$\n",
    "$$\\sigma_X^2=?$$"
   ]
  },
  {
   "cell_type": "code",
   "execution_count": 8,
   "metadata": {},
   "outputs": [
    {
     "data": {
      "image/png": "[encoded data removed]",
      "text/latex": [
       "$\\displaystyle \\left( \\frac{a}{2}, \\  \\frac{a^{2}}{3} - \\frac{a^{2}}{2 \\pi^{2} n^{2}}, \\  \\frac{a^{2}}{12} - \\frac{a^{2}}{2 \\pi^{2} n^{2}}, \\  \\sqrt{\\frac{a^{2}}{12} - \\frac{a^{2}}{2 \\pi^{2} n^{2}}}\\right)$"
      ],
      "text/plain": [
       "⎛                                     ______________⎞\n",
       "⎜    2       2     2       2         ╱  2       2   ⎟\n",
       "⎜a  a       a     a       a         ╱  a       a    ⎟\n",
       "⎜─, ── - ───────, ── - ───────,    ╱   ── - ─────── ⎟\n",
       "⎜2  3       2  2  12      2  2    ╱    12      2  2 ⎟\n",
       "⎝        2⋅π ⋅n        2⋅π ⋅n   ╲╱          2⋅π ⋅n  ⎠"
      ]
     },
     "execution_count": 8,
     "metadata": {},
     "output_type": "execute_result"
    }
   ],
   "source": [
    "X=sp.integrate(sol.rhs * x * sol.rhs, (x, 0, a)).simplify()\n",
    "X_squared=sp.integrate(sol.rhs * x**2 * sol.rhs, (x, 0, a)).simplify()\n",
    "sigma_X_squared=X_squared-X**2\n",
    "sigma_X=sp.sqrt(sigma_X_squared)\n",
    "X, X_squared, sigma_X_squared,sigma_X"
   ]
  },
  {
   "cell_type": "markdown",
   "metadata": {},
   "source": [
    "### Wyliczenie pędu\n",
    "$$<p>=?$$\n",
    "$$<p^2>=?$$\n",
    "$$\\sigma_P=?$$\n",
    "$$\\sigma_P^2=?$$"
   ]
  },
  {
   "cell_type": "code",
   "execution_count": 9,
   "metadata": {},
   "outputs": [
    {
     "data": {
      "image/png": "[encoded data removed]",
      "text/latex": [
       "$\\displaystyle \\left( 0, \\  \\frac{\\pi^{2} \\hbar^{2} n^{2}}{a^{2}}, \\  \\frac{\\pi^{2} \\hbar^{2} n^{2}}{a^{2}}, \\  \\pi \\hbar \\left|{\\frac{n}{a}}\\right|\\right)$"
      ],
      "text/plain": [
       "⎛    2  2  2   2  2  2         ⎞\n",
       "⎜   π ⋅h̅ ⋅n   π ⋅h̅ ⋅n       │n│⎟\n",
       "⎜0, ────────, ────────, π⋅h̅⋅│─│⎟\n",
       "⎜       2         2         │a│⎟\n",
       "⎝      a         a             ⎠"
      ]
     },
     "execution_count": 9,
     "metadata": {},
     "output_type": "execute_result"
    }
   ],
   "source": [
    "P=sp.integrate(sol.rhs*-hbar*sp.I*sol.rhs.diff(x),(x,0,a)).simplify()\n",
    "P_squared=sp.integrate(sol.rhs * (sol.rhs).diff(x,x)*-hbar**2, (x, 0, a)).simplify()\n",
    "sigma_P_squared=P_squared-P**2\n",
    "sigma_P=sp.sqrt(sigma_P_squared).simplify()\n",
    "\n",
    "P,P_squared,sigma_P_squared,sigma_P"
   ]
  },
  {
   "cell_type": "markdown",
   "metadata": {},
   "source": [
    "### Sprawdzenie nierówności"
   ]
  },
  {
   "cell_type": "markdown",
   "metadata": {},
   "source": [
    "$$\\sigma_X \\sigma_P \\geq \\frac{\\hbar}{2}$$"
   ]
  },
  {
   "cell_type": "code",
   "execution_count": 10,
   "metadata": {},
   "outputs": [
    {
     "data": {
      "image/png": "[encoded data removed]",
      "text/latex": [
       "$\\displaystyle \\frac{\\hbar \\sqrt{3 \\pi^{2} n^{2} - 18}}{6}$"
      ],
      "text/plain": [
       "     ______________\n",
       "    ╱    2  2      \n",
       "h̅⋅╲╱  3⋅π ⋅n  - 18 \n",
       "───────────────────\n",
       "         6         "
      ]
     },
     "execution_count": 10,
     "metadata": {},
     "output_type": "execute_result"
    }
   ],
   "source": [
    "check=sigma_P*sigma_X\n",
    "check.simplify()"
   ]
  },
  {
   "cell_type": "markdown",
   "metadata": {},
   "source": [
    "*Dla najmniejszego n: (n=1)*"
   ]
  },
  {
   "cell_type": "code",
   "execution_count": 11,
   "metadata": {},
   "outputs": [
    {
     "name": "stdout",
     "output_type": "stream",
     "text": [
      "Spełnione\n"
     ]
    },
    {
     "data": {
      "image/png": "[encoded data removed]",
      "text/latex": [
       "$\\displaystyle \\left( 3.76269217787555 \\cdot 10^{-34}, \\  3.313035075 \\cdot 10^{-34}\\right)$"
      ],
      "text/plain": [
       "(3.76269217787555e-34, 3.313035075e-34)"
      ]
     },
     "execution_count": 11,
     "metadata": {},
     "output_type": "execute_result"
    }
   ],
   "source": [
    "res=h*sp.sqrt(3*sp.pi**2-18)/6\n",
    "result=h/2\n",
    "\n",
    "if(res.evalf()>=result):\n",
    "    print('Spełnione')\n",
    "\n",
    "res.evalf(),result"
   ]
  },
  {
   "cell_type": "markdown",
   "metadata": {},
   "source": [
    "Po sprawdzeniu warunku dla najmniejszej wartości zasada nieoznaczoności jest spełniona."
   ]
  }
 ],
 "metadata": {
  "kernelspec": {
   "display_name": "fogt-integra-2023-CXMDHbKH-py3.10",
   "language": "python",
   "name": "python3"
  },
  "language_info": {
   "codemirror_mode": {
    "name": "ipython",
    "version": 3
   },
   "file_extension": ".py",
   "mimetype": "text/x-python",
   "name": "python",
   "nbconvert_exporter": "python",
   "pygments_lexer": "ipython3",
   "version": "3.11.5"
  }
 },
 "nbformat": 4,
 "nbformat_minor": 2
}
